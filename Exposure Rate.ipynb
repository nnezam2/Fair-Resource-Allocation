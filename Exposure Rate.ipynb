{
 "cells": [
  {
   "cell_type": "code",
   "execution_count": null,
   "metadata": {},
   "outputs": [],
   "source": [
    "## Reading data from online database\n",
    "\n",
    "import pandas as pd\n",
    "import numpy as np\n",
    "import matplotlib.pyplot as plt\n",
    "from IPython.display import display, HTML\n",
    "\n",
    "df1 = pd.read_pickle('covid_demo2') #Covid demographic data  \n",
    "df2 = pd.read_pickle('demo+cases2') #demographic data+ covid-cases by zipcode\n",
    "\n",
    "## only numeric data \n",
    "df3=pd.DataFrame(df1.drop(['lab_report_date'],axis=1)) #Covid demographic data \n",
    "df4=pd.DataFrame(df2.drop(['zipcode','Location','County'],axis=1)) #demographic data+ covid-cases by zipcode\n",
    "\n",
    "df3=df3.dropna().astype('int')\n",
    "df4=df4.dropna().astype('int')\n",
    "\n",
    "# probabilites \n",
    "total=df3.sum()\n",
    "groups_cases=total[3:21]\n",
    "groups_death=total[21:39]\n",
    "groups_cases=pd.DataFrame(groups_cases).rename(columns={0:'total_number'})\n",
    "groups_death=pd.DataFrame(groups_death).rename(columns={0:'total_number'})\n",
    "groups_death['prob_death']=groups_death['total_number']/total[1]\n",
    "groups_cases['prob_cases']=groups_cases['total_number']/total[0]\n",
    "\n",
    "## sortting based on probability \n",
    "groups_death=groups_death.sort_values(by=['prob_death'],ascending=False).head(16)\n",
    "groups_cases=groups_cases.sort_values(by=['prob_cases'],ascending=False).head(16)\n",
    "## cleaning \n",
    "death_prob=groups_death\n",
    "death_prob=death_prob.drop(['deaths_latinx'],axis=0) #do not population data\n",
    "case_prob=groups_cases\n",
    "case_prob=case_prob.drop(['cases_latinx'],axis=0) \n",
    "\n",
    "df_pop=df4.iloc[:,[3,4,6,8,9,10,11,16,17,18,19,20,21,22,23]]\n",
    "pop=pd.DataFrame(df_pop.sum()).rename(columns={0:'total'})\n",
    "pop['probability']=pop.total/df4.population.sum()\n",
    "\n",
    "## Bayes Formula Table \n",
    "\n",
    "## creating population columns \n",
    "pop_prob=pd.Series([0.518496,0.481504,0.264933,0.329234,0.169179,0.116106,0.127123,0.461115,0.112651,0.075258,0.123406,\n",
    "                   0.042547,0.027427,0.027416,0.061123])\n",
    "\n",
    "\n",
    "pop_n=pd.Series([855482,794448,437121,543213,279133,191567,209744,760807,185866,124170,203611,\n",
    "                70199,45252,45234,100849])\n",
    "\n",
    "pop_n.index=case_prob.index\n",
    "pop_prob.index=case_prob.index\n",
    "\n",
    "tabe2=pd.concat([case_prob,pop_n,pop_prob],axis=1,ignore_index=True).rename(columns={0:'total_cases',1:'P(gi|E=1)',3:'P(gi)',2:'total_pop'})\n",
    "tabe2['P(E=1|gi)']=tabe2['P(gi|E=1)']*(99153)/tabe2['total_pop'] #total cases\n",
    "tabe2['P(E=1|gi)2']=tabe2['total_cases']/tabe2['total_pop']\n",
    "#tabe2\n"
   ]
  }
 ],
 "metadata": {
  "kernelspec": {
   "display_name": "Python [conda env:3]",
   "language": "python",
   "name": "conda-env-3-py"
  },
  "language_info": {
   "codemirror_mode": {
    "name": "ipython",
    "version": 3
   },
   "file_extension": ".py",
   "mimetype": "text/x-python",
   "name": "python",
   "nbconvert_exporter": "python",
   "pygments_lexer": "ipython3",
   "version": "3.7.6"
  }
 },
 "nbformat": 4,
 "nbformat_minor": 4
}
